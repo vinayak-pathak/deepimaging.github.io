{
  "nbformat": 4,
  "nbformat_minor": 0,
  "metadata": {
    "colab": {
      "name": "BME MML Lecture 2: Tensorflow Fundamentals and Python Review.ipynb",
      "provenance": [],
      "collapsed_sections": [],
      "include_colab_link": true
    },
    "kernelspec": {
      "name": "python3",
      "display_name": "Python 3"
    },
    "accelerator": "GPU"
  },
  "cells": [
    {
      "cell_type": "markdown",
      "metadata": {
        "id": "view-in-github",
        "colab_type": "text"
      },
      "source": [
        "<a href=\"https://colab.research.google.com/github/vinayak-pathak/deepimaging.github.io/blob/master/BME_MML_Lecture_2_Tensorflow_Fundamentals_and_Python_Review.ipynb\" target=\"_parent\"><img src=\"https://colab.research.google.com/assets/colab-badge.svg\" alt=\"Open In Colab\"/></a>"
      ]
    },
    {
      "cell_type": "markdown",
      "metadata": {
        "id": "ZvrZXxHkO5SF",
        "colab_type": "text"
      },
      "source": [
        "# Download Dependencies"
      ]
    },
    {
      "cell_type": "code",
      "metadata": {
        "id": "R9a8JhMSooax",
        "colab_type": "code",
        "colab": {}
      },
      "source": [
        "!pip3 install tensorflow_datasets\n",
        "!pip3 install tensorflow-gpu==2.0.0-rc0\n",
        "\n",
        "%load_ext tensorboard\n",
        "\n",
        "!nvidia-smi"
      ],
      "execution_count": null,
      "outputs": []
    },
    {
      "cell_type": "markdown",
      "metadata": {
        "id": "AJUFhAryPryj",
        "colab_type": "text"
      },
      "source": [
        "# Review decorators and with blocks"
      ]
    },
    {
      "cell_type": "code",
      "metadata": {
        "id": "Rhm_rC2_PrYc",
        "colab_type": "code",
        "colab": {}
      },
      "source": [
        "class controlled_execution:\n",
        "    def __enter__(self):\n",
        "        print('setting things up (such as opening a file)')\n",
        "        x = 1/0\n",
        "    def __exit__(self, type, value, traceback): # What are the __underscores__ for?\n",
        "        print(value)\n",
        "        print(traceback)\n",
        "        print(type)\n",
        "        print('removing things (such as closing a file)')\n",
        "\n",
        "with controlled_execution():\n",
        "  x = 1"
      ],
      "execution_count": null,
      "outputs": []
    },
    {
      "cell_type": "code",
      "metadata": {
        "id": "lzAcTtnGK6If",
        "colab_type": "code",
        "colab": {
          "base_uri": "https://localhost:8080/",
          "height": 35
        },
        "outputId": "f3486d64-f447-45df-de40-aae31b7f7896"
      },
      "source": [
        "class apple:\n",
        "  def eat(self):\n",
        "    print('yum')\n",
        "  def __init__(self):\n",
        "    self.value = 1\n",
        "    print('created apple')\n",
        "    \n",
        "  def __add__(self, b):\n",
        "    return self.value + b.value\n",
        "\n",
        "class orange:\n",
        "  def __init__(self):\n",
        "    self.value = 1\n",
        "    print('created orange')\n",
        "    \n",
        "  def __add__(self, b):\n",
        "    return self.value + b.value\n",
        "\n",
        "a = apple()\n",
        "o = orange()\n",
        "\n",
        "a.__add__(o)"
      ],
      "execution_count": null,
      "outputs": [
        {
          "output_type": "stream",
          "text": [
            "created apple\n"
          ],
          "name": "stdout"
        }
      ]
    },
    {
      "cell_type": "code",
      "metadata": {
        "colab_type": "code",
        "id": "b4MiuvGcPU6M",
        "colab": {}
      },
      "source": [
        "def foo(fn):\n",
        "  def function_wrapper(x):\n",
        "    print('Before I call my fn')\n",
        "    fn(x)\n",
        "    print('After I call my fn')\n",
        "    \n",
        "  return function_wrapper\n",
        "  \n",
        "def my_fun(x):\n",
        "  return 2*(x+x)\n",
        "\n",
        "function_wrapper()"
      ],
      "execution_count": null,
      "outputs": []
    },
    {
      "cell_type": "code",
      "metadata": {
        "id": "cR8WwW1tQkIr",
        "colab_type": "code",
        "colab": {}
      },
      "source": [
        "def my_decorator(fn):\n",
        "  def function_wrapper(x):\n",
        "    print(\"Before calling \" + fn.__name__)\n",
        "    output = fn(x)\n",
        "    print(\"After calling \" + fn.__name__)\n",
        "    return output\n",
        "  return function_wrapper\n",
        "\n",
        "my_decorator(my_fun)(2)\n",
        "\n",
        "@my_decorator\n",
        "def my_fun(x):\n",
        "  return 2*(x+x)\n",
        "\n",
        "print(my_fun(2))"
      ],
      "execution_count": null,
      "outputs": []
    },
    {
      "cell_type": "markdown",
      "metadata": {
        "id": "hPbx9wC2O_jt",
        "colab_type": "text"
      },
      "source": [
        "# Explore `@tf.function`\n",
        "We will create the following graph in TensorFlow 2.0 using `@tf.function`\n",
        "\n",
        "![alt text](https://miro.medium.com/max/1917/1*RfSvkiVUHHWEe805Hf1HEw.png)"
      ]
    },
    {
      "cell_type": "code",
      "metadata": {
        "id": "TSvlyP4hQrBt",
        "colab_type": "code",
        "colab": {
          "base_uri": "https://localhost:8080/",
          "height": 54
        },
        "outputId": "247a30f6-04de-45fc-ddda-4c848b69c20c"
      },
      "source": [
        "import tensorflow as tf\n",
        "\n",
        "@tf.function\n",
        "def my_func(my_input):\n",
        "    print(tf.executing_eagerly())\n",
        "    a = tf.square(my_input, name=\"A\")\n",
        "    b = tf.cos(a, name=\"B\")\n",
        "    c = tf.sin(a, name=\"C\")   \n",
        "    d = tf.add(b, c, name=\"D\")\n",
        "    e = tf.floor(b, name=\"E\")\n",
        "    f = tf.sqrt(d, name=\"F\")\n",
        "    return e,f\n",
        "\n",
        "# We use `tf.summary` to trace the graph as it is executing.\n",
        "tf.summary.trace_on(graph=True, profiler=False)\n",
        "\n",
        "print(my_func(2.0))\n",
        "\n",
        "with tf.summary.create_file_writer('./logs').as_default():   \n",
        "    tf.summary.trace_export(\n",
        "        name='tf2_graph',\n",
        "        step=0,\n",
        "        profiler_outdir='./logs/profiler'\n",
        "    )\n",
        "    \n",
        "tf.summary.trace_off()"
      ],
      "execution_count": null,
      "outputs": [
        {
          "output_type": "stream",
          "text": [
            "False\n",
            "(<tf.Tensor: id=41, shape=(), dtype=float32, numpy=-1.0>, <tf.Tensor: id=42, shape=(), dtype=float32, numpy=nan>)\n"
          ],
          "name": "stdout"
        }
      ]
    },
    {
      "cell_type": "code",
      "metadata": {
        "id": "d-sKfwRtEDY1",
        "colab_type": "code",
        "colab": {
          "base_uri": "https://localhost:8080/",
          "height": 35
        },
        "outputId": "c1fe642a-12bb-4ef9-b6c7-2efc64fce5c7"
      },
      "source": [
        "import tensorflow as tf\n",
        "\n",
        "@tf.function\n",
        "def my_func(my_input):\n",
        "    a = tf.square(my_input, name=\"A\")\n",
        "    b = tf.cos(a, name=\"B\")\n",
        "    c = tf.sin(a, name=\"C\")   \n",
        "    d = tf.add(b, c, name=\"D\")\n",
        "    e = tf.floor(b, name=\"E\")\n",
        "    f = tf.sqrt(d, name=\"F\")\n",
        "    return e,f\n",
        "\n",
        "# We use `tf.summary` to trace the graph as it is executing.\n",
        "tf.summary.trace_on(graph=True, profiler=False)\n",
        "print(my_func(2.0))\n",
        "with tf.summary.create_file_writer('./logs').as_default():   \n",
        "    tf.summary.trace_export(\n",
        "        name='tf2_graph',\n",
        "        step=0,\n",
        "        profiler_outdir='./logs/profiler'\n",
        "    )\n",
        "tf.summary.trace_off()"
      ],
      "execution_count": null,
      "outputs": [
        {
          "output_type": "stream",
          "text": [
            "(<tf.Tensor: id=301, shape=(), dtype=float32, numpy=-1.0>, <tf.Tensor: id=302, shape=(), dtype=float32, numpy=nan>)\n"
          ],
          "name": "stdout"
        }
      ]
    },
    {
      "cell_type": "code",
      "metadata": {
        "id": "u2rI50GPMlES",
        "colab_type": "code",
        "colab": {}
      },
      "source": [
        "# We can also get an explicit tf.Graph using this with block\n",
        "graph = tf.Graph()\n",
        "with graph.as_default():\n",
        "  my_func(2.0)\n",
        "graph.as_graph_def()"
      ],
      "execution_count": null,
      "outputs": []
    },
    {
      "cell_type": "code",
      "metadata": {
        "id": "451MJMoLUTyM",
        "colab_type": "code",
        "colab": {
          "base_uri": "https://localhost:8080/",
          "height": 613
        },
        "outputId": "f55362d1-22ca-476e-ed86-69e45c152793"
      },
      "source": [
        "# tf.Variable\n",
        "\n",
        "@tf.function #(what happens if we try this?)\n",
        "def f(const):\n",
        "    a = tf.constant([[10,10],[11.,1.]])\n",
        "    x = tf.constant([[1.,0.],[0.,1.]])\n",
        "    b = tf.Variable(12.) + const\n",
        "    y = tf.matmul(a, x) + b\n",
        "    print(\"PRINT: \", y)\n",
        "    return y\n",
        "\n",
        "f(100)"
      ],
      "execution_count": null,
      "outputs": [
        {
          "output_type": "stream",
          "text": [
            "PRINT:  Tensor(\"add_1:0\", shape=(2, 2), dtype=float32)\n"
          ],
          "name": "stdout"
        },
        {
          "output_type": "error",
          "ename": "ValueError",
          "evalue": "ignored",
          "traceback": [
            "\u001b[0;31m---------------------------------------------------------------------------\u001b[0m",
            "\u001b[0;31mValueError\u001b[0m                                Traceback (most recent call last)",
            "\u001b[0;32m<ipython-input-81-946901449063>\u001b[0m in \u001b[0;36m<module>\u001b[0;34m()\u001b[0m\n\u001b[1;32m      9\u001b[0m     \u001b[0;32mreturn\u001b[0m \u001b[0my\u001b[0m\u001b[0;34m\u001b[0m\u001b[0;34m\u001b[0m\u001b[0m\n\u001b[1;32m     10\u001b[0m \u001b[0;34m\u001b[0m\u001b[0m\n\u001b[0;32m---> 11\u001b[0;31m \u001b[0mf\u001b[0m\u001b[0;34m(\u001b[0m\u001b[0;36m100\u001b[0m\u001b[0;34m)\u001b[0m\u001b[0;34m\u001b[0m\u001b[0;34m\u001b[0m\u001b[0m\n\u001b[0m",
            "\u001b[0;32m/usr/local/lib/python3.6/dist-packages/tensorflow_core/python/eager/def_function.py\u001b[0m in \u001b[0;36m__call__\u001b[0;34m(self, *args, **kwds)\u001b[0m\n\u001b[1;32m    437\u001b[0m         \u001b[0;31m# Lifting succeeded, so variables are initialized and we can run the\u001b[0m\u001b[0;34m\u001b[0m\u001b[0;34m\u001b[0m\u001b[0;34m\u001b[0m\u001b[0m\n\u001b[1;32m    438\u001b[0m         \u001b[0;31m# stateless function.\u001b[0m\u001b[0;34m\u001b[0m\u001b[0;34m\u001b[0m\u001b[0;34m\u001b[0m\u001b[0m\n\u001b[0;32m--> 439\u001b[0;31m         \u001b[0;32mreturn\u001b[0m \u001b[0mself\u001b[0m\u001b[0;34m.\u001b[0m\u001b[0m_stateless_fn\u001b[0m\u001b[0;34m(\u001b[0m\u001b[0;34m*\u001b[0m\u001b[0margs\u001b[0m\u001b[0;34m,\u001b[0m \u001b[0;34m**\u001b[0m\u001b[0mkwds\u001b[0m\u001b[0;34m)\u001b[0m\u001b[0;34m\u001b[0m\u001b[0;34m\u001b[0m\u001b[0m\n\u001b[0m\u001b[1;32m    440\u001b[0m     \u001b[0;32melse\u001b[0m\u001b[0;34m:\u001b[0m\u001b[0;34m\u001b[0m\u001b[0;34m\u001b[0m\u001b[0m\n\u001b[1;32m    441\u001b[0m       \u001b[0mcanon_args\u001b[0m\u001b[0;34m,\u001b[0m \u001b[0mcanon_kwds\u001b[0m \u001b[0;34m=\u001b[0m\u001b[0;31m \u001b[0m\u001b[0;31m\\\u001b[0m\u001b[0;34m\u001b[0m\u001b[0;34m\u001b[0m\u001b[0m\n",
            "\u001b[0;32m/usr/local/lib/python3.6/dist-packages/tensorflow_core/python/eager/function.py\u001b[0m in \u001b[0;36m__call__\u001b[0;34m(self, *args, **kwargs)\u001b[0m\n\u001b[1;32m   1819\u001b[0m   \u001b[0;32mdef\u001b[0m \u001b[0m__call__\u001b[0m\u001b[0;34m(\u001b[0m\u001b[0mself\u001b[0m\u001b[0;34m,\u001b[0m \u001b[0;34m*\u001b[0m\u001b[0margs\u001b[0m\u001b[0;34m,\u001b[0m \u001b[0;34m**\u001b[0m\u001b[0mkwargs\u001b[0m\u001b[0;34m)\u001b[0m\u001b[0;34m:\u001b[0m\u001b[0;34m\u001b[0m\u001b[0;34m\u001b[0m\u001b[0m\n\u001b[1;32m   1820\u001b[0m     \u001b[0;34m\"\"\"Calls a graph function specialized to the inputs.\"\"\"\u001b[0m\u001b[0;34m\u001b[0m\u001b[0;34m\u001b[0m\u001b[0m\n\u001b[0;32m-> 1821\u001b[0;31m     \u001b[0mgraph_function\u001b[0m\u001b[0;34m,\u001b[0m \u001b[0margs\u001b[0m\u001b[0;34m,\u001b[0m \u001b[0mkwargs\u001b[0m \u001b[0;34m=\u001b[0m \u001b[0mself\u001b[0m\u001b[0;34m.\u001b[0m\u001b[0m_maybe_define_function\u001b[0m\u001b[0;34m(\u001b[0m\u001b[0margs\u001b[0m\u001b[0;34m,\u001b[0m \u001b[0mkwargs\u001b[0m\u001b[0;34m)\u001b[0m\u001b[0;34m\u001b[0m\u001b[0;34m\u001b[0m\u001b[0m\n\u001b[0m\u001b[1;32m   1822\u001b[0m     \u001b[0;32mreturn\u001b[0m \u001b[0mgraph_function\u001b[0m\u001b[0;34m.\u001b[0m\u001b[0m_filtered_call\u001b[0m\u001b[0;34m(\u001b[0m\u001b[0margs\u001b[0m\u001b[0;34m,\u001b[0m \u001b[0mkwargs\u001b[0m\u001b[0;34m)\u001b[0m  \u001b[0;31m# pylint: disable=protected-access\u001b[0m\u001b[0;34m\u001b[0m\u001b[0;34m\u001b[0m\u001b[0m\n\u001b[1;32m   1823\u001b[0m \u001b[0;34m\u001b[0m\u001b[0m\n",
            "\u001b[0;32m/usr/local/lib/python3.6/dist-packages/tensorflow_core/python/eager/function.py\u001b[0m in \u001b[0;36m_maybe_define_function\u001b[0;34m(self, args, kwargs)\u001b[0m\n\u001b[1;32m   2145\u001b[0m         \u001b[0mgraph_function\u001b[0m \u001b[0;34m=\u001b[0m \u001b[0mself\u001b[0m\u001b[0;34m.\u001b[0m\u001b[0m_function_cache\u001b[0m\u001b[0;34m.\u001b[0m\u001b[0mprimary\u001b[0m\u001b[0;34m.\u001b[0m\u001b[0mget\u001b[0m\u001b[0;34m(\u001b[0m\u001b[0mcache_key\u001b[0m\u001b[0;34m,\u001b[0m \u001b[0;32mNone\u001b[0m\u001b[0;34m)\u001b[0m\u001b[0;34m\u001b[0m\u001b[0;34m\u001b[0m\u001b[0m\n\u001b[1;32m   2146\u001b[0m         \u001b[0;32mif\u001b[0m \u001b[0mgraph_function\u001b[0m \u001b[0;32mis\u001b[0m \u001b[0;32mNone\u001b[0m\u001b[0;34m:\u001b[0m\u001b[0;34m\u001b[0m\u001b[0;34m\u001b[0m\u001b[0m\n\u001b[0;32m-> 2147\u001b[0;31m           \u001b[0mgraph_function\u001b[0m \u001b[0;34m=\u001b[0m \u001b[0mself\u001b[0m\u001b[0;34m.\u001b[0m\u001b[0m_create_graph_function\u001b[0m\u001b[0;34m(\u001b[0m\u001b[0margs\u001b[0m\u001b[0;34m,\u001b[0m \u001b[0mkwargs\u001b[0m\u001b[0;34m)\u001b[0m\u001b[0;34m\u001b[0m\u001b[0;34m\u001b[0m\u001b[0m\n\u001b[0m\u001b[1;32m   2148\u001b[0m           \u001b[0mself\u001b[0m\u001b[0;34m.\u001b[0m\u001b[0m_function_cache\u001b[0m\u001b[0;34m.\u001b[0m\u001b[0mprimary\u001b[0m\u001b[0;34m[\u001b[0m\u001b[0mcache_key\u001b[0m\u001b[0;34m]\u001b[0m \u001b[0;34m=\u001b[0m \u001b[0mgraph_function\u001b[0m\u001b[0;34m\u001b[0m\u001b[0;34m\u001b[0m\u001b[0m\n\u001b[1;32m   2149\u001b[0m         \u001b[0;32mreturn\u001b[0m \u001b[0mgraph_function\u001b[0m\u001b[0;34m,\u001b[0m \u001b[0margs\u001b[0m\u001b[0;34m,\u001b[0m \u001b[0mkwargs\u001b[0m\u001b[0;34m\u001b[0m\u001b[0;34m\u001b[0m\u001b[0m\n",
            "\u001b[0;32m/usr/local/lib/python3.6/dist-packages/tensorflow_core/python/eager/function.py\u001b[0m in \u001b[0;36m_create_graph_function\u001b[0;34m(self, args, kwargs, override_flat_arg_shapes)\u001b[0m\n\u001b[1;32m   2036\u001b[0m             \u001b[0marg_names\u001b[0m\u001b[0;34m=\u001b[0m\u001b[0marg_names\u001b[0m\u001b[0;34m,\u001b[0m\u001b[0;34m\u001b[0m\u001b[0;34m\u001b[0m\u001b[0m\n\u001b[1;32m   2037\u001b[0m             \u001b[0moverride_flat_arg_shapes\u001b[0m\u001b[0;34m=\u001b[0m\u001b[0moverride_flat_arg_shapes\u001b[0m\u001b[0;34m,\u001b[0m\u001b[0;34m\u001b[0m\u001b[0;34m\u001b[0m\u001b[0m\n\u001b[0;32m-> 2038\u001b[0;31m             capture_by_value=self._capture_by_value),\n\u001b[0m\u001b[1;32m   2039\u001b[0m         \u001b[0mself\u001b[0m\u001b[0;34m.\u001b[0m\u001b[0m_function_attributes\u001b[0m\u001b[0;34m,\u001b[0m\u001b[0;34m\u001b[0m\u001b[0;34m\u001b[0m\u001b[0m\n\u001b[1;32m   2040\u001b[0m         \u001b[0;31m# Tell the ConcreteFunction to clean up its graph once it goes out of\u001b[0m\u001b[0;34m\u001b[0m\u001b[0;34m\u001b[0m\u001b[0;34m\u001b[0m\u001b[0m\n",
            "\u001b[0;32m/usr/local/lib/python3.6/dist-packages/tensorflow_core/python/framework/func_graph.py\u001b[0m in \u001b[0;36mfunc_graph_from_py_func\u001b[0;34m(name, python_func, args, kwargs, signature, func_graph, autograph, autograph_options, add_control_dependencies, arg_names, op_return_value, collections, capture_by_value, override_flat_arg_shapes)\u001b[0m\n\u001b[1;32m    913\u001b[0m                                           converted_func)\n\u001b[1;32m    914\u001b[0m \u001b[0;34m\u001b[0m\u001b[0m\n\u001b[0;32m--> 915\u001b[0;31m       \u001b[0mfunc_outputs\u001b[0m \u001b[0;34m=\u001b[0m \u001b[0mpython_func\u001b[0m\u001b[0;34m(\u001b[0m\u001b[0;34m*\u001b[0m\u001b[0mfunc_args\u001b[0m\u001b[0;34m,\u001b[0m \u001b[0;34m**\u001b[0m\u001b[0mfunc_kwargs\u001b[0m\u001b[0;34m)\u001b[0m\u001b[0;34m\u001b[0m\u001b[0;34m\u001b[0m\u001b[0m\n\u001b[0m\u001b[1;32m    916\u001b[0m \u001b[0;34m\u001b[0m\u001b[0m\n\u001b[1;32m    917\u001b[0m       \u001b[0;31m# invariant: `func_outputs` contains only Tensors, CompositeTensors,\u001b[0m\u001b[0;34m\u001b[0m\u001b[0;34m\u001b[0m\u001b[0;34m\u001b[0m\u001b[0m\n",
            "\u001b[0;32m/usr/local/lib/python3.6/dist-packages/tensorflow_core/python/eager/def_function.py\u001b[0m in \u001b[0;36mwrapped_fn\u001b[0;34m(*args, **kwds)\u001b[0m\n\u001b[1;32m    318\u001b[0m         \u001b[0;31m# __wrapped__ allows AutoGraph to swap in a converted function. We give\u001b[0m\u001b[0;34m\u001b[0m\u001b[0;34m\u001b[0m\u001b[0;34m\u001b[0m\u001b[0m\n\u001b[1;32m    319\u001b[0m         \u001b[0;31m# the function a weak reference to itself to avoid a reference cycle.\u001b[0m\u001b[0;34m\u001b[0m\u001b[0;34m\u001b[0m\u001b[0;34m\u001b[0m\u001b[0m\n\u001b[0;32m--> 320\u001b[0;31m         \u001b[0;32mreturn\u001b[0m \u001b[0mweak_wrapped_fn\u001b[0m\u001b[0;34m(\u001b[0m\u001b[0;34m)\u001b[0m\u001b[0;34m.\u001b[0m\u001b[0m__wrapped__\u001b[0m\u001b[0;34m(\u001b[0m\u001b[0;34m*\u001b[0m\u001b[0margs\u001b[0m\u001b[0;34m,\u001b[0m \u001b[0;34m**\u001b[0m\u001b[0mkwds\u001b[0m\u001b[0;34m)\u001b[0m\u001b[0;34m\u001b[0m\u001b[0;34m\u001b[0m\u001b[0m\n\u001b[0m\u001b[1;32m    321\u001b[0m     \u001b[0mweak_wrapped_fn\u001b[0m \u001b[0;34m=\u001b[0m \u001b[0mweakref\u001b[0m\u001b[0;34m.\u001b[0m\u001b[0mref\u001b[0m\u001b[0;34m(\u001b[0m\u001b[0mwrapped_fn\u001b[0m\u001b[0;34m)\u001b[0m\u001b[0;34m\u001b[0m\u001b[0;34m\u001b[0m\u001b[0m\n\u001b[1;32m    322\u001b[0m \u001b[0;34m\u001b[0m\u001b[0m\n",
            "\u001b[0;32m/usr/local/lib/python3.6/dist-packages/tensorflow_core/python/framework/func_graph.py\u001b[0m in \u001b[0;36mwrapper\u001b[0;34m(*args, **kwargs)\u001b[0m\n\u001b[1;32m    903\u001b[0m           \u001b[0;32mexcept\u001b[0m \u001b[0mException\u001b[0m \u001b[0;32mas\u001b[0m \u001b[0me\u001b[0m\u001b[0;34m:\u001b[0m  \u001b[0;31m# pylint:disable=broad-except\u001b[0m\u001b[0;34m\u001b[0m\u001b[0;34m\u001b[0m\u001b[0m\n\u001b[1;32m    904\u001b[0m             \u001b[0;32mif\u001b[0m \u001b[0mhasattr\u001b[0m\u001b[0;34m(\u001b[0m\u001b[0me\u001b[0m\u001b[0;34m,\u001b[0m \u001b[0;34m\"ag_error_metadata\"\u001b[0m\u001b[0;34m)\u001b[0m\u001b[0;34m:\u001b[0m\u001b[0;34m\u001b[0m\u001b[0;34m\u001b[0m\u001b[0m\n\u001b[0;32m--> 905\u001b[0;31m               \u001b[0;32mraise\u001b[0m \u001b[0me\u001b[0m\u001b[0;34m.\u001b[0m\u001b[0mag_error_metadata\u001b[0m\u001b[0;34m.\u001b[0m\u001b[0mto_exception\u001b[0m\u001b[0;34m(\u001b[0m\u001b[0me\u001b[0m\u001b[0;34m)\u001b[0m\u001b[0;34m\u001b[0m\u001b[0;34m\u001b[0m\u001b[0m\n\u001b[0m\u001b[1;32m    906\u001b[0m             \u001b[0;32melse\u001b[0m\u001b[0;34m:\u001b[0m\u001b[0;34m\u001b[0m\u001b[0;34m\u001b[0m\u001b[0m\n\u001b[1;32m    907\u001b[0m               \u001b[0;32mraise\u001b[0m\u001b[0;34m\u001b[0m\u001b[0;34m\u001b[0m\u001b[0m\n",
            "\u001b[0;31mValueError\u001b[0m: in converted code:\n\n    <ipython-input-81-946901449063>:6 f  *\n        b = tf.Variable(12.) + const\n    /usr/local/lib/python3.6/dist-packages/tensorflow_core/python/ops/variables.py:259 __call__\n        return cls._variable_v2_call(*args, **kwargs)\n    /usr/local/lib/python3.6/dist-packages/tensorflow_core/python/ops/variables.py:253 _variable_v2_call\n        shape=shape)\n    /usr/local/lib/python3.6/dist-packages/tensorflow_core/python/ops/variables.py:64 getter\n        return captured_getter(captured_previous, **kwargs)\n    /usr/local/lib/python3.6/dist-packages/tensorflow_core/python/eager/def_function.py:375 invalid_creator_scope\n        \"tf.function-decorated function tried to create \"\n\n    ValueError: tf.function-decorated function tried to create variables on non-first call.\n"
          ]
        }
      ]
    },
    {
      "cell_type": "code",
      "metadata": {
        "id": "iFYJbh9vTfBc",
        "colab_type": "code",
        "colab": {
          "base_uri": "https://localhost:8080/",
          "height": 72
        },
        "outputId": "4f532a46-d654-4201-be8c-9414bb654ff1"
      },
      "source": [
        "f(100)"
      ],
      "execution_count": null,
      "outputs": [
        {
          "output_type": "execute_result",
          "data": {
            "text/plain": [
              "<tf.Tensor: id=150, shape=(2, 2), dtype=float32, numpy=\n",
              "array([[122., 122.],\n",
              "       [123., 113.]], dtype=float32)>"
            ]
          },
          "metadata": {
            "tags": []
          },
          "execution_count": 51
        }
      ]
    },
    {
      "cell_type": "code",
      "metadata": {
        "id": "rZ7kp-7iU2W_",
        "colab_type": "code",
        "colab": {
          "base_uri": "https://localhost:8080/",
          "height": 145
        },
        "outputId": "81564e78-3e4e-4827-ca96-9abcdbcc9c2e"
      },
      "source": [
        "# What is the difference between class and instance?\n",
        "\n",
        "class F:\n",
        "    def __init__(self):\n",
        "        self._b = None\n",
        "\n",
        "    @tf.function\n",
        "    def __call__(self, const):\n",
        "        a = tf.constant([[10, 10], [11., 1.]])\n",
        "        x = tf.constant([[1., 0.], [0., 1.]])\n",
        "        if self._b is None:\n",
        "            self._b = tf.Variable(12.)\n",
        "        self._b.assign_add(const)\n",
        "        y = tf.matmul(a, x) + self._b\n",
        "        print(\"PRINT: \", y)\n",
        "        tf.print(\"TF-PRINT: \", y)\n",
        "        return y\n",
        "\n",
        "f = F()\n",
        "f(100.)"
      ],
      "execution_count": null,
      "outputs": [
        {
          "output_type": "stream",
          "text": [
            "PRINT:  Tensor(\"add:0\", shape=(2, 2), dtype=float32)\n",
            "PRINT:  Tensor(\"add:0\", shape=(2, 2), dtype=float32)\n",
            "TF-PRINT:  [[122 122]\n",
            " [123 113]]\n"
          ],
          "name": "stdout"
        },
        {
          "output_type": "execute_result",
          "data": {
            "text/plain": [
              "<tf.Tensor: id=362, shape=(2, 2), dtype=float32, numpy=\n",
              "array([[122., 122.],\n",
              "       [123., 113.]], dtype=float32)>"
            ]
          },
          "metadata": {
            "tags": []
          },
          "execution_count": 55
        }
      ]
    },
    {
      "cell_type": "code",
      "metadata": {
        "id": "zbkTh67EnDMG",
        "colab_type": "code",
        "colab": {}
      },
      "source": [
        "def get_next_data(i):\n",
        "  filebytes = open_file('{}.jpg'.format(i))\n",
        "  array = decode_jpeg(filebytes)\n",
        "  skewed_array = skew(array)\n",
        "  return skewed_array\n",
        "\n",
        "for i in range(steps):\n",
        "  batch = get_next_data(i)\n",
        "  train_on_gpu(batch)\n"
      ],
      "execution_count": null,
      "outputs": []
    },
    {
      "cell_type": "code",
      "metadata": {
        "id": "WBlGY8_Na0ju",
        "colab_type": "code",
        "colab": {
          "base_uri": "https://localhost:8080/",
          "height": 189
        },
        "outputId": "afea227a-9a7a-43d0-9b59-48081a118fb0"
      },
      "source": [
        "my_files = map(range(steps), lambda i: open_file('{}.jpg'.format(i)))\n",
        "my_arrays = map(range(my_files), lambda filebytes: decode_jpeg(filebytes))\n",
        "my_skewed_arrays = map(range(my_arrays), lambda array: skew(array))\n",
        "\n"
      ],
      "execution_count": null,
      "outputs": [
        {
          "output_type": "error",
          "ename": "TypeError",
          "evalue": "ignored",
          "traceback": [
            "\u001b[0;31m---------------------------------------------------------------------------\u001b[0m",
            "\u001b[0;31mTypeError\u001b[0m                                 Traceback (most recent call last)",
            "\u001b[0;32m<ipython-input-87-8a00729ca962>\u001b[0m in \u001b[0;36m<module>\u001b[0;34m()\u001b[0m\n\u001b[0;32m----> 1\u001b[0;31m \u001b[0ma\u001b[0m \u001b[0;34m=\u001b[0m \u001b[0mapple\u001b[0m\u001b[0;34m(\u001b[0m\u001b[0;36m2\u001b[0m\u001b[0;34m)\u001b[0m\u001b[0;34m\u001b[0m\u001b[0;34m\u001b[0m\u001b[0m\n\u001b[0m\u001b[1;32m      2\u001b[0m \u001b[0mprint\u001b[0m\u001b[0;34m(\u001b[0m\u001b[0ma\u001b[0m\u001b[0;34m.\u001b[0m\u001b[0mnum\u001b[0m\u001b[0;34m)\u001b[0m\u001b[0;34m\u001b[0m\u001b[0;34m\u001b[0m\u001b[0m\n",
            "\u001b[0;31mTypeError\u001b[0m: object() takes no parameters"
          ]
        }
      ]
    },
    {
      "cell_type": "code",
      "metadata": {
        "id": "All-tr6TUEQZ",
        "colab_type": "code",
        "colab": {
          "base_uri": "https://localhost:8080/",
          "height": 54
        },
        "outputId": "a257c664-a013-4ae1-d57f-dd723ba0093e"
      },
      "source": [
        "def fun(val, *args,  keyword_one=None, keyword_two=None, **kwargs):\n",
        "  print(args)\n",
        "  print(kwargs)\n",
        "  \n",
        "fun(2,3,4,5,6,7,8,9, keyword_one='hi', keyword_two='hello', keyword_three='exists?', keyword_four='?')"
      ],
      "execution_count": null,
      "outputs": [
        {
          "output_type": "stream",
          "text": [
            "(3, 4, 5, 6, 7, 8, 9)\n",
            "{'keyword_three': 'exists?', 'keyword_four': '?'}\n"
          ],
          "name": "stdout"
        }
      ]
    },
    {
      "cell_type": "code",
      "metadata": {
        "id": "RclRIvXgVky4",
        "colab_type": "code",
        "colab": {}
      },
      "source": [
        ""
      ],
      "execution_count": null,
      "outputs": []
    }
  ]
}